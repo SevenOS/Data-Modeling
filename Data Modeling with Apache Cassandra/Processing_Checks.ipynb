{
 "cells": [
  {
   "cell_type": "markdown",
   "metadata": {
    "editable": true
   },
   "source": [
    "#### Import Python packages "
   ]
  },
  {
   "cell_type": "code",
   "execution_count": 1,
   "metadata": {
    "editable": true
   },
   "outputs": [],
   "source": [
    "from Processing_Checks import *\n",
    "import pandas as pd"
   ]
  },
  {
   "cell_type": "markdown",
   "metadata": {
    "editable": true
   },
   "source": [
    "#### Creating list of filepaths to process original event csv data files"
   ]
  },
  {
   "cell_type": "markdown",
   "metadata": {
    "editable": true
   },
   "source": [
    "Parameters:"
   ]
  },
  {
   "cell_type": "code",
   "execution_count": 2,
   "metadata": {
    "editable": true
   },
   "outputs": [],
   "source": [
    "file = 'event_datafile_new.csv'\n",
    "filter_cols = ['artist','firstName','gender','itemInSession','lastName','length',\\\n",
    "               'level','location','sessionId','song','userId']"
   ]
  },
  {
   "cell_type": "markdown",
   "metadata": {
    "editable": true
   },
   "source": [
    "Process file:"
   ]
  },
  {
   "cell_type": "code",
   "execution_count": 3,
   "metadata": {
    "editable": true
   },
   "outputs": [
    {
     "name": "stdout",
     "output_type": "stream",
     "text": [
      "/home/workspace\n"
     ]
    }
   ],
   "source": [
    "file_path_list = process_file()"
   ]
  },
  {
   "cell_type": "markdown",
   "metadata": {
    "editable": true
   },
   "source": [
    "#### Processing the files to create the data file csv that will be used for Apache Casssandra tables"
   ]
  },
  {
   "cell_type": "code",
   "execution_count": 4,
   "metadata": {
    "editable": true
   },
   "outputs": [],
   "source": [
    "full_data_rows_list = process_data(file_path_list,file,filter_cols)"
   ]
  },
  {
   "cell_type": "markdown",
   "metadata": {
    "editable": true
   },
   "source": [
    "#### Data checks"
   ]
  },
  {
   "cell_type": "markdown",
   "metadata": {
    "editable": true
   },
   "source": [
    "Check the total number of rows in list"
   ]
  },
  {
   "cell_type": "code",
   "execution_count": 5,
   "metadata": {
    "editable": true
   },
   "outputs": [
    {
     "name": "stdout",
     "output_type": "stream",
     "text": [
      "8056\n"
     ]
    }
   ],
   "source": [
    "checking_total_rows(full_data_rows_list)"
   ]
  },
  {
   "cell_type": "markdown",
   "metadata": {
    "editable": true
   },
   "source": [
    "Check the total number of rows in the output file"
   ]
  },
  {
   "cell_type": "code",
   "execution_count": 15,
   "metadata": {
    "editable": true
   },
   "outputs": [
    {
     "name": "stdout",
     "output_type": "stream",
     "text": [
      "6821\n"
     ]
    }
   ],
   "source": [
    "checking_output_rows(file)"
   ]
  },
  {
   "cell_type": "markdown",
   "metadata": {
    "editable": true
   },
   "source": [
    "##### Data Frame checks"
   ]
  },
  {
   "cell_type": "markdown",
   "metadata": {
    "editable": true
   },
   "source": [
    "First 5 rows:"
   ]
  },
  {
   "cell_type": "code",
   "execution_count": 6,
   "metadata": {
    "editable": true
   },
   "outputs": [
    {
     "data": {
      "text/html": [
       "<div>\n",
       "<style scoped>\n",
       "    .dataframe tbody tr th:only-of-type {\n",
       "        vertical-align: middle;\n",
       "    }\n",
       "\n",
       "    .dataframe tbody tr th {\n",
       "        vertical-align: top;\n",
       "    }\n",
       "\n",
       "    .dataframe thead th {\n",
       "        text-align: right;\n",
       "    }\n",
       "</style>\n",
       "<table border=\"1\" class=\"dataframe\">\n",
       "  <thead>\n",
       "    <tr style=\"text-align: right;\">\n",
       "      <th></th>\n",
       "      <th>0</th>\n",
       "      <th>1</th>\n",
       "      <th>2</th>\n",
       "      <th>3</th>\n",
       "      <th>4</th>\n",
       "      <th>5</th>\n",
       "      <th>6</th>\n",
       "      <th>7</th>\n",
       "      <th>8</th>\n",
       "      <th>9</th>\n",
       "      <th>10</th>\n",
       "      <th>11</th>\n",
       "      <th>12</th>\n",
       "      <th>13</th>\n",
       "      <th>14</th>\n",
       "      <th>15</th>\n",
       "      <th>16</th>\n",
       "    </tr>\n",
       "  </thead>\n",
       "  <tbody>\n",
       "    <tr>\n",
       "      <th>0</th>\n",
       "      <td>Barry Tuckwell/Academy of St Martin-in-the-Fie...</td>\n",
       "      <td>Logged In</td>\n",
       "      <td>Mohammad</td>\n",
       "      <td>M</td>\n",
       "      <td>0</td>\n",
       "      <td>Rodriguez</td>\n",
       "      <td>277.15873</td>\n",
       "      <td>paid</td>\n",
       "      <td>Sacramento--Roseville--Arden-Arcade, CA</td>\n",
       "      <td>PUT</td>\n",
       "      <td>NextSong</td>\n",
       "      <td>1.54051E+12</td>\n",
       "      <td>961</td>\n",
       "      <td>Horn Concerto No. 4 in E flat K495: II. Romanc...</td>\n",
       "      <td>200</td>\n",
       "      <td>1.54328E+12</td>\n",
       "      <td>88</td>\n",
       "    </tr>\n",
       "    <tr>\n",
       "      <th>1</th>\n",
       "      <td>Jimi Hendrix</td>\n",
       "      <td>Logged In</td>\n",
       "      <td>Mohammad</td>\n",
       "      <td>M</td>\n",
       "      <td>1</td>\n",
       "      <td>Rodriguez</td>\n",
       "      <td>239.82975</td>\n",
       "      <td>paid</td>\n",
       "      <td>Sacramento--Roseville--Arden-Arcade, CA</td>\n",
       "      <td>PUT</td>\n",
       "      <td>NextSong</td>\n",
       "      <td>1.54051E+12</td>\n",
       "      <td>961</td>\n",
       "      <td>Woodstock Inprovisation</td>\n",
       "      <td>200</td>\n",
       "      <td>1.54328E+12</td>\n",
       "      <td>88</td>\n",
       "    </tr>\n",
       "    <tr>\n",
       "      <th>2</th>\n",
       "      <td>Building 429</td>\n",
       "      <td>Logged In</td>\n",
       "      <td>Mohammad</td>\n",
       "      <td>M</td>\n",
       "      <td>2</td>\n",
       "      <td>Rodriguez</td>\n",
       "      <td>300.61669</td>\n",
       "      <td>paid</td>\n",
       "      <td>Sacramento--Roseville--Arden-Arcade, CA</td>\n",
       "      <td>PUT</td>\n",
       "      <td>NextSong</td>\n",
       "      <td>1.54051E+12</td>\n",
       "      <td>961</td>\n",
       "      <td>Majesty (LP Version)</td>\n",
       "      <td>200</td>\n",
       "      <td>1.54328E+12</td>\n",
       "      <td>88</td>\n",
       "    </tr>\n",
       "    <tr>\n",
       "      <th>3</th>\n",
       "      <td>The B-52's</td>\n",
       "      <td>Logged In</td>\n",
       "      <td>Gianna</td>\n",
       "      <td>F</td>\n",
       "      <td>0</td>\n",
       "      <td>Jones</td>\n",
       "      <td>321.54077</td>\n",
       "      <td>free</td>\n",
       "      <td>New York-Newark-Jersey City, NY-NJ-PA</td>\n",
       "      <td>PUT</td>\n",
       "      <td>NextSong</td>\n",
       "      <td>1.54087E+12</td>\n",
       "      <td>107</td>\n",
       "      <td>Love Shack</td>\n",
       "      <td>200</td>\n",
       "      <td>1.54328E+12</td>\n",
       "      <td>38</td>\n",
       "    </tr>\n",
       "    <tr>\n",
       "      <th>4</th>\n",
       "      <td>Die Mooskirchner</td>\n",
       "      <td>Logged In</td>\n",
       "      <td>Gianna</td>\n",
       "      <td>F</td>\n",
       "      <td>1</td>\n",
       "      <td>Jones</td>\n",
       "      <td>169.29914</td>\n",
       "      <td>free</td>\n",
       "      <td>New York-Newark-Jersey City, NY-NJ-PA</td>\n",
       "      <td>PUT</td>\n",
       "      <td>NextSong</td>\n",
       "      <td>1.54087E+12</td>\n",
       "      <td>107</td>\n",
       "      <td>Frisch und g'sund</td>\n",
       "      <td>200</td>\n",
       "      <td>1.54328E+12</td>\n",
       "      <td>38</td>\n",
       "    </tr>\n",
       "  </tbody>\n",
       "</table>\n",
       "</div>"
      ],
      "text/plain": [
       "                                                  0          1         2  3   \\\n",
       "0  Barry Tuckwell/Academy of St Martin-in-the-Fie...  Logged In  Mohammad  M   \n",
       "1                                       Jimi Hendrix  Logged In  Mohammad  M   \n",
       "2                                       Building 429  Logged In  Mohammad  M   \n",
       "3                                         The B-52's  Logged In    Gianna  F   \n",
       "4                                   Die Mooskirchner  Logged In    Gianna  F   \n",
       "\n",
       "  4          5          6     7                                        8   \\\n",
       "0  0  Rodriguez  277.15873  paid  Sacramento--Roseville--Arden-Arcade, CA   \n",
       "1  1  Rodriguez  239.82975  paid  Sacramento--Roseville--Arden-Arcade, CA   \n",
       "2  2  Rodriguez  300.61669  paid  Sacramento--Roseville--Arden-Arcade, CA   \n",
       "3  0      Jones  321.54077  free    New York-Newark-Jersey City, NY-NJ-PA   \n",
       "4  1      Jones  169.29914  free    New York-Newark-Jersey City, NY-NJ-PA   \n",
       "\n",
       "    9         10           11   12  \\\n",
       "0  PUT  NextSong  1.54051E+12  961   \n",
       "1  PUT  NextSong  1.54051E+12  961   \n",
       "2  PUT  NextSong  1.54051E+12  961   \n",
       "3  PUT  NextSong  1.54087E+12  107   \n",
       "4  PUT  NextSong  1.54087E+12  107   \n",
       "\n",
       "                                                  13   14           15  16  \n",
       "0  Horn Concerto No. 4 in E flat K495: II. Romanc...  200  1.54328E+12  88  \n",
       "1                            Woodstock Inprovisation  200  1.54328E+12  88  \n",
       "2                               Majesty (LP Version)  200  1.54328E+12  88  \n",
       "3                                         Love Shack  200  1.54328E+12  38  \n",
       "4                                  Frisch und g'sund  200  1.54328E+12  38  "
      ]
     },
     "execution_count": 6,
     "metadata": {},
     "output_type": "execute_result"
    }
   ],
   "source": [
    "data = []\n",
    "rows = checking_rows(full_data_rows_list)\n",
    "rows = rows[0:5]\n",
    "for row in rows:\n",
    "    data.append(row)\n",
    "    df = pd.DataFrame(data)\n",
    "df"
   ]
  },
  {
   "cell_type": "markdown",
   "metadata": {
    "editable": true
   },
   "source": [
    "Load the full Data Frame"
   ]
  },
  {
   "cell_type": "code",
   "execution_count": 16,
   "metadata": {
    "editable": true
   },
   "outputs": [
    {
     "data": {
      "text/html": [
       "<div>\n",
       "<style scoped>\n",
       "    .dataframe tbody tr th:only-of-type {\n",
       "        vertical-align: middle;\n",
       "    }\n",
       "\n",
       "    .dataframe tbody tr th {\n",
       "        vertical-align: top;\n",
       "    }\n",
       "\n",
       "    .dataframe thead th {\n",
       "        text-align: right;\n",
       "    }\n",
       "</style>\n",
       "<table border=\"1\" class=\"dataframe\">\n",
       "  <thead>\n",
       "    <tr style=\"text-align: right;\">\n",
       "      <th></th>\n",
       "      <th>0</th>\n",
       "      <th>1</th>\n",
       "      <th>2</th>\n",
       "      <th>3</th>\n",
       "      <th>4</th>\n",
       "      <th>5</th>\n",
       "      <th>6</th>\n",
       "      <th>7</th>\n",
       "      <th>8</th>\n",
       "      <th>9</th>\n",
       "      <th>10</th>\n",
       "      <th>11</th>\n",
       "      <th>12</th>\n",
       "      <th>13</th>\n",
       "      <th>14</th>\n",
       "      <th>15</th>\n",
       "      <th>16</th>\n",
       "    </tr>\n",
       "  </thead>\n",
       "  <tbody>\n",
       "    <tr>\n",
       "      <th>0</th>\n",
       "      <td>Barry Tuckwell/Academy of St Martin-in-the-Fie...</td>\n",
       "      <td>Logged In</td>\n",
       "      <td>Mohammad</td>\n",
       "      <td>M</td>\n",
       "      <td>0</td>\n",
       "      <td>Rodriguez</td>\n",
       "      <td>277.15873</td>\n",
       "      <td>paid</td>\n",
       "      <td>Sacramento--Roseville--Arden-Arcade, CA</td>\n",
       "      <td>PUT</td>\n",
       "      <td>NextSong</td>\n",
       "      <td>1.54051E+12</td>\n",
       "      <td>961</td>\n",
       "      <td>Horn Concerto No. 4 in E flat K495: II. Romanc...</td>\n",
       "      <td>200</td>\n",
       "      <td>1.54328E+12</td>\n",
       "      <td>88</td>\n",
       "    </tr>\n",
       "    <tr>\n",
       "      <th>1</th>\n",
       "      <td>Jimi Hendrix</td>\n",
       "      <td>Logged In</td>\n",
       "      <td>Mohammad</td>\n",
       "      <td>M</td>\n",
       "      <td>1</td>\n",
       "      <td>Rodriguez</td>\n",
       "      <td>239.82975</td>\n",
       "      <td>paid</td>\n",
       "      <td>Sacramento--Roseville--Arden-Arcade, CA</td>\n",
       "      <td>PUT</td>\n",
       "      <td>NextSong</td>\n",
       "      <td>1.54051E+12</td>\n",
       "      <td>961</td>\n",
       "      <td>Woodstock Inprovisation</td>\n",
       "      <td>200</td>\n",
       "      <td>1.54328E+12</td>\n",
       "      <td>88</td>\n",
       "    </tr>\n",
       "    <tr>\n",
       "      <th>2</th>\n",
       "      <td>Building 429</td>\n",
       "      <td>Logged In</td>\n",
       "      <td>Mohammad</td>\n",
       "      <td>M</td>\n",
       "      <td>2</td>\n",
       "      <td>Rodriguez</td>\n",
       "      <td>300.61669</td>\n",
       "      <td>paid</td>\n",
       "      <td>Sacramento--Roseville--Arden-Arcade, CA</td>\n",
       "      <td>PUT</td>\n",
       "      <td>NextSong</td>\n",
       "      <td>1.54051E+12</td>\n",
       "      <td>961</td>\n",
       "      <td>Majesty (LP Version)</td>\n",
       "      <td>200</td>\n",
       "      <td>1.54328E+12</td>\n",
       "      <td>88</td>\n",
       "    </tr>\n",
       "    <tr>\n",
       "      <th>3</th>\n",
       "      <td>The B-52's</td>\n",
       "      <td>Logged In</td>\n",
       "      <td>Gianna</td>\n",
       "      <td>F</td>\n",
       "      <td>0</td>\n",
       "      <td>Jones</td>\n",
       "      <td>321.54077</td>\n",
       "      <td>free</td>\n",
       "      <td>New York-Newark-Jersey City, NY-NJ-PA</td>\n",
       "      <td>PUT</td>\n",
       "      <td>NextSong</td>\n",
       "      <td>1.54087E+12</td>\n",
       "      <td>107</td>\n",
       "      <td>Love Shack</td>\n",
       "      <td>200</td>\n",
       "      <td>1.54328E+12</td>\n",
       "      <td>38</td>\n",
       "    </tr>\n",
       "    <tr>\n",
       "      <th>4</th>\n",
       "      <td>Die Mooskirchner</td>\n",
       "      <td>Logged In</td>\n",
       "      <td>Gianna</td>\n",
       "      <td>F</td>\n",
       "      <td>1</td>\n",
       "      <td>Jones</td>\n",
       "      <td>169.29914</td>\n",
       "      <td>free</td>\n",
       "      <td>New York-Newark-Jersey City, NY-NJ-PA</td>\n",
       "      <td>PUT</td>\n",
       "      <td>NextSong</td>\n",
       "      <td>1.54087E+12</td>\n",
       "      <td>107</td>\n",
       "      <td>Frisch und g'sund</td>\n",
       "      <td>200</td>\n",
       "      <td>1.54328E+12</td>\n",
       "      <td>38</td>\n",
       "    </tr>\n",
       "    <tr>\n",
       "      <th>...</th>\n",
       "      <td>...</td>\n",
       "      <td>...</td>\n",
       "      <td>...</td>\n",
       "      <td>...</td>\n",
       "      <td>...</td>\n",
       "      <td>...</td>\n",
       "      <td>...</td>\n",
       "      <td>...</td>\n",
       "      <td>...</td>\n",
       "      <td>...</td>\n",
       "      <td>...</td>\n",
       "      <td>...</td>\n",
       "      <td>...</td>\n",
       "      <td>...</td>\n",
       "      <td>...</td>\n",
       "      <td>...</td>\n",
       "      <td>...</td>\n",
       "    </tr>\n",
       "    <tr>\n",
       "      <th>8051</th>\n",
       "      <td>Sidewalk Prophets</td>\n",
       "      <td>Logged In</td>\n",
       "      <td>Molly</td>\n",
       "      <td>F</td>\n",
       "      <td>0</td>\n",
       "      <td>Taylor</td>\n",
       "      <td>260.62322</td>\n",
       "      <td>free</td>\n",
       "      <td>St. Louis, MO-IL</td>\n",
       "      <td>PUT</td>\n",
       "      <td>NextSong</td>\n",
       "      <td>1.54099E+12</td>\n",
       "      <td>464</td>\n",
       "      <td>You Love Me Anyway (Album)</td>\n",
       "      <td>200</td>\n",
       "      <td>1.54197E+12</td>\n",
       "      <td>35</td>\n",
       "    </tr>\n",
       "    <tr>\n",
       "      <th>8052</th>\n",
       "      <td>Rise Against</td>\n",
       "      <td>Logged In</td>\n",
       "      <td>Molly</td>\n",
       "      <td>F</td>\n",
       "      <td>1</td>\n",
       "      <td>Taylor</td>\n",
       "      <td>221.17832</td>\n",
       "      <td>free</td>\n",
       "      <td>St. Louis, MO-IL</td>\n",
       "      <td>PUT</td>\n",
       "      <td>NextSong</td>\n",
       "      <td>1.54099E+12</td>\n",
       "      <td>464</td>\n",
       "      <td>Torches</td>\n",
       "      <td>200</td>\n",
       "      <td>1.54197E+12</td>\n",
       "      <td>35</td>\n",
       "    </tr>\n",
       "    <tr>\n",
       "      <th>8053</th>\n",
       "      <td>K'Naan</td>\n",
       "      <td>Logged In</td>\n",
       "      <td>Molly</td>\n",
       "      <td>F</td>\n",
       "      <td>2</td>\n",
       "      <td>Taylor</td>\n",
       "      <td>220.49914</td>\n",
       "      <td>free</td>\n",
       "      <td>St. Louis, MO-IL</td>\n",
       "      <td>PUT</td>\n",
       "      <td>NextSong</td>\n",
       "      <td>1.54099E+12</td>\n",
       "      <td>464</td>\n",
       "      <td>Wavin'  Flag</td>\n",
       "      <td>200</td>\n",
       "      <td>1.54197E+12</td>\n",
       "      <td>35</td>\n",
       "    </tr>\n",
       "    <tr>\n",
       "      <th>8054</th>\n",
       "      <td>Patrick Jumpen</td>\n",
       "      <td>Logged In</td>\n",
       "      <td>Ryan</td>\n",
       "      <td>M</td>\n",
       "      <td>0</td>\n",
       "      <td>Smith</td>\n",
       "      <td>208.87465</td>\n",
       "      <td>free</td>\n",
       "      <td>San Jose-Sunnyvale-Santa Clara, CA</td>\n",
       "      <td>PUT</td>\n",
       "      <td>NextSong</td>\n",
       "      <td>1.54102E+12</td>\n",
       "      <td>480</td>\n",
       "      <td>Holiday</td>\n",
       "      <td>200</td>\n",
       "      <td>1.54198E+12</td>\n",
       "      <td>26</td>\n",
       "    </tr>\n",
       "    <tr>\n",
       "      <th>8055</th>\n",
       "      <td>Alicia Keys</td>\n",
       "      <td>Logged In</td>\n",
       "      <td>Ryan</td>\n",
       "      <td>M</td>\n",
       "      <td>1</td>\n",
       "      <td>Smith</td>\n",
       "      <td>216.47628</td>\n",
       "      <td>free</td>\n",
       "      <td>San Jose-Sunnyvale-Santa Clara, CA</td>\n",
       "      <td>PUT</td>\n",
       "      <td>NextSong</td>\n",
       "      <td>1.54102E+12</td>\n",
       "      <td>480</td>\n",
       "      <td>Empire State Of Mind (Part II) Broken Down</td>\n",
       "      <td>200</td>\n",
       "      <td>1.54198E+12</td>\n",
       "      <td>26</td>\n",
       "    </tr>\n",
       "  </tbody>\n",
       "</table>\n",
       "<p>8056 rows × 17 columns</p>\n",
       "</div>"
      ],
      "text/plain": [
       "                                                     0          1         2   \\\n",
       "0     Barry Tuckwell/Academy of St Martin-in-the-Fie...  Logged In  Mohammad   \n",
       "1                                          Jimi Hendrix  Logged In  Mohammad   \n",
       "2                                          Building 429  Logged In  Mohammad   \n",
       "3                                            The B-52's  Logged In    Gianna   \n",
       "4                                      Die Mooskirchner  Logged In    Gianna   \n",
       "...                                                 ...        ...       ...   \n",
       "8051                                  Sidewalk Prophets  Logged In     Molly   \n",
       "8052                                       Rise Against  Logged In     Molly   \n",
       "8053                                             K'Naan  Logged In     Molly   \n",
       "8054                                     Patrick Jumpen  Logged In      Ryan   \n",
       "8055                                        Alicia Keys  Logged In      Ryan   \n",
       "\n",
       "     3  4          5          6     7   \\\n",
       "0     M  0  Rodriguez  277.15873  paid   \n",
       "1     M  1  Rodriguez  239.82975  paid   \n",
       "2     M  2  Rodriguez  300.61669  paid   \n",
       "3     F  0      Jones  321.54077  free   \n",
       "4     F  1      Jones  169.29914  free   \n",
       "...  .. ..        ...        ...   ...   \n",
       "8051  F  0     Taylor  260.62322  free   \n",
       "8052  F  1     Taylor  221.17832  free   \n",
       "8053  F  2     Taylor  220.49914  free   \n",
       "8054  M  0      Smith  208.87465  free   \n",
       "8055  M  1      Smith  216.47628  free   \n",
       "\n",
       "                                           8    9         10           11  \\\n",
       "0     Sacramento--Roseville--Arden-Arcade, CA  PUT  NextSong  1.54051E+12   \n",
       "1     Sacramento--Roseville--Arden-Arcade, CA  PUT  NextSong  1.54051E+12   \n",
       "2     Sacramento--Roseville--Arden-Arcade, CA  PUT  NextSong  1.54051E+12   \n",
       "3       New York-Newark-Jersey City, NY-NJ-PA  PUT  NextSong  1.54087E+12   \n",
       "4       New York-Newark-Jersey City, NY-NJ-PA  PUT  NextSong  1.54087E+12   \n",
       "...                                       ...  ...       ...          ...   \n",
       "8051                         St. Louis, MO-IL  PUT  NextSong  1.54099E+12   \n",
       "8052                         St. Louis, MO-IL  PUT  NextSong  1.54099E+12   \n",
       "8053                         St. Louis, MO-IL  PUT  NextSong  1.54099E+12   \n",
       "8054       San Jose-Sunnyvale-Santa Clara, CA  PUT  NextSong  1.54102E+12   \n",
       "8055       San Jose-Sunnyvale-Santa Clara, CA  PUT  NextSong  1.54102E+12   \n",
       "\n",
       "       12                                                 13   14  \\\n",
       "0     961  Horn Concerto No. 4 in E flat K495: II. Romanc...  200   \n",
       "1     961                            Woodstock Inprovisation  200   \n",
       "2     961                               Majesty (LP Version)  200   \n",
       "3     107                                         Love Shack  200   \n",
       "4     107                                  Frisch und g'sund  200   \n",
       "...   ...                                                ...  ...   \n",
       "8051  464                         You Love Me Anyway (Album)  200   \n",
       "8052  464                                            Torches  200   \n",
       "8053  464                                       Wavin'  Flag  200   \n",
       "8054  480                                            Holiday  200   \n",
       "8055  480         Empire State Of Mind (Part II) Broken Down  200   \n",
       "\n",
       "               15  16  \n",
       "0     1.54328E+12  88  \n",
       "1     1.54328E+12  88  \n",
       "2     1.54328E+12  88  \n",
       "3     1.54328E+12  38  \n",
       "4     1.54328E+12  38  \n",
       "...           ...  ..  \n",
       "8051  1.54197E+12  35  \n",
       "8052  1.54197E+12  35  \n",
       "8053  1.54197E+12  35  \n",
       "8054  1.54198E+12  26  \n",
       "8055  1.54198E+12  26  \n",
       "\n",
       "[8056 rows x 17 columns]"
      ]
     },
     "execution_count": 16,
     "metadata": {},
     "output_type": "execute_result"
    }
   ],
   "source": [
    "data = []\n",
    "rows = checking_rows(full_data_rows_list)\n",
    "for row in rows:\n",
    "    data.append(row)\n",
    "    df = pd.DataFrame(data)"
   ]
  },
  {
   "cell_type": "markdown",
   "metadata": {
    "editable": true
   },
   "source": [
    "Data Frame info:"
   ]
  },
  {
   "cell_type": "code",
   "execution_count": 17,
   "metadata": {
    "editable": true
   },
   "outputs": [
    {
     "name": "stdout",
     "output_type": "stream",
     "text": [
      "<class 'pandas.core.frame.DataFrame'>\n",
      "RangeIndex: 8056 entries, 0 to 8055\n",
      "Data columns (total 17 columns):\n",
      " #   Column  Non-Null Count  Dtype \n",
      "---  ------  --------------  ----- \n",
      " 0   0       8056 non-null   object\n",
      " 1   1       8056 non-null   object\n",
      " 2   2       8056 non-null   object\n",
      " 3   3       8056 non-null   object\n",
      " 4   4       8056 non-null   object\n",
      " 5   5       8056 non-null   object\n",
      " 6   6       8056 non-null   object\n",
      " 7   7       8056 non-null   object\n",
      " 8   8       8056 non-null   object\n",
      " 9   9       8056 non-null   object\n",
      " 10  10      8056 non-null   object\n",
      " 11  11      8056 non-null   object\n",
      " 12  12      8056 non-null   object\n",
      " 13  13      8056 non-null   object\n",
      " 14  14      8056 non-null   object\n",
      " 15  15      8056 non-null   object\n",
      " 16  16      8056 non-null   object\n",
      "dtypes: object(17)\n",
      "memory usage: 1.0+ MB\n"
     ]
    }
   ],
   "source": [
    "df.info()"
   ]
  },
  {
   "cell_type": "markdown",
   "metadata": {
    "editable": true
   },
   "source": [
    "Data Frame shape:"
   ]
  },
  {
   "cell_type": "code",
   "execution_count": 23,
   "metadata": {
    "editable": true
   },
   "outputs": [
    {
     "data": {
      "text/plain": [
       "(8056, 17)"
      ]
     },
     "execution_count": 23,
     "metadata": {},
     "output_type": "execute_result"
    }
   ],
   "source": [
    "df.shape"
   ]
  },
  {
   "cell_type": "markdown",
   "metadata": {
    "editable": true
   },
   "source": [
    "Data Frame null:"
   ]
  },
  {
   "cell_type": "code",
   "execution_count": 19,
   "metadata": {
    "editable": true
   },
   "outputs": [
    {
     "data": {
      "text/plain": [
       "0     0\n",
       "1     0\n",
       "2     0\n",
       "3     0\n",
       "4     0\n",
       "5     0\n",
       "6     0\n",
       "7     0\n",
       "8     0\n",
       "9     0\n",
       "10    0\n",
       "11    0\n",
       "12    0\n",
       "13    0\n",
       "14    0\n",
       "15    0\n",
       "16    0\n",
       "dtype: int64"
      ]
     },
     "execution_count": 19,
     "metadata": {},
     "output_type": "execute_result"
    }
   ],
   "source": [
    "df.isnull().sum()"
   ]
  }
 ],
 "metadata": {
  "kernelspec": {
   "display_name": "Python 3",
   "language": "python",
   "name": "python3"
  },
  "language_info": {
   "codemirror_mode": {
    "name": "ipython",
    "version": 3
   },
   "file_extension": ".py",
   "mimetype": "text/x-python",
   "name": "python",
   "nbconvert_exporter": "python",
   "pygments_lexer": "ipython3",
   "version": "3.6.3"
  }
 },
 "nbformat": 4,
 "nbformat_minor": 4
}
